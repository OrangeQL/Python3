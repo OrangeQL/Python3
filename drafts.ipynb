{
 "cells": [
  {
   "cell_type": "code",
   "execution_count": 1,
   "metadata": {},
   "outputs": [
    {
     "name": "stdout",
     "output_type": "stream",
     "text": [
      "3.3333333333333335\n",
      "1\n"
     ]
    }
   ],
   "source": [
    "a=10\n",
    "b=3\n",
    "c=a/b\n",
    "print(c)\n",
    "c=a%b\n",
    "print(c)"
   ]
  },
  {
   "cell_type": "code",
   "execution_count": 2,
   "metadata": {},
   "outputs": [
    {
     "name": "stdout",
     "output_type": "stream",
     "text": [
      "1\n"
     ]
    }
   ],
   "source": [
    "a=1\n",
    "print(a)"
   ]
  },
  {
   "cell_type": "code",
   "execution_count": 6,
   "metadata": {},
   "outputs": [
    {
     "name": "stdout",
     "output_type": "stream",
     "text": [
      "bc1\n"
     ]
    }
   ],
   "source": [
    "a=1\n",
    "print(\"bc{0}\".format(a))"
   ]
  },
  {
   "cell_type": "code",
   "execution_count": 33,
   "metadata": {},
   "outputs": [
    {
     "name": "stdout",
     "output_type": "stream",
     "text": [
      "<class 'dict'>\n",
      "name ---- Veigar\n",
      "age ---- 18\n",
      "lover ---- linzhi\n",
      "address ---- ZJOU\n",
      "<class 'dict'>\n",
      "name ---- Veigar\n",
      "age ---- 18\n",
      "lover ---- linzhi\n",
      "address ---- ZJOU\n"
     ]
    }
   ],
   "source": [
    "def student(**x):\n",
    "    print(type(x))\n",
    "    for i, o in x.items():\n",
    "        print(i, \"----\", o)\n",
    "        \n",
    "ka = {\"name\" : \"Veigar\", \"age\" : 18, \"lover\" : \"linzhi\", \"address\" : \"ZJOU\"}\n",
    "student(name = \"Veigar\", age = 18, lover = \"linzhi\", address = \"ZJOU\")\n",
    "student(**ka)"
   ]
  },
  {
   "cell_type": "code",
   "execution_count": 12,
   "metadata": {},
   "outputs": [
    {
     "name": "stdout",
     "output_type": "stream",
     "text": [
      "11\n",
      "1\n"
     ]
    }
   ],
   "source": [
    "a = 1\n",
    "def fun ():\n",
    "    a = 11\n",
    "    print (a)\n",
    "\n",
    "\n",
    "fun ()\n",
    "print (a)"
   ]
  },
  {
   "cell_type": "code",
   "execution_count": 13,
   "metadata": {},
   "outputs": [
    {
     "name": "stdout",
     "output_type": "stream",
     "text": [
      "11\n",
      "11\n"
     ]
    }
   ],
   "source": [
    "a = 1\n",
    "def fun ():\n",
    "    global a\n",
    "    a = 11\n",
    "    print (a)\n",
    "\n",
    "\n",
    "fun ()\n",
    "print (a)"
   ]
  },
  {
   "cell_type": "code",
   "execution_count": 42,
   "metadata": {},
   "outputs": [
    {
     "data": {
      "text/plain": [
       "55"
      ]
     },
     "execution_count": 42,
     "metadata": {},
     "output_type": "execute_result"
    }
   ],
   "source": [
    "def fib(i):\n",
    "    if i == 1:\n",
    "        return 1\n",
    "    if i == 2:\n",
    "        return 1\n",
    "    \n",
    "    return fib(i-1) + fib(i-2)\n",
    "    print(fib(i))\n",
    "\n",
    "fib(10)\n",
    "    \n",
    "    "
   ]
  },
  {
   "cell_type": "code",
   "execution_count": 5,
   "metadata": {},
   "outputs": [
    {
     "name": "stdout",
     "output_type": "stream",
     "text": [
      "4\n",
      "[2]\n"
     ]
    }
   ],
   "source": [
    "L=[1,2,3,4,5]\n",
    "print(L[-2])\n",
    "print(L[1:3:2])"
   ]
  },
  {
   "cell_type": "code",
   "execution_count": 4,
   "metadata": {},
   "outputs": [
    {
     "name": "stdout",
     "output_type": "stream",
     "text": [
      "[1, 2, 3, 4, 5, 6, 7, 8, 9]\n",
      "4437050632\n",
      "[1, 2, 111, 3, 4, 5, 6, 7, 8, 9]\n",
      "4437050632\n",
      "111\n",
      "[1, 2, 3, 4, 5, 6, 7, 8, 9]\n",
      "[1, 2, 3, 4, 5, 6, 7, 8, 9]\n",
      "4437050632\n",
      "4437050632\n"
     ]
    }
   ],
   "source": [
    "a = [i for i in range(1,10)]\n",
    "print(a)\n",
    "print(id(a))\n",
    "a.insert(2,111)\n",
    "print(a)\n",
    "print(id(a))\n",
    "b = a\n",
    "c = b.pop(2)\n",
    "print(c)\n",
    "print(a)\n",
    "print(b)\n",
    "print(id(a))\n",
    "print(id(b))\n"
   ]
  },
  {
   "cell_type": "code",
   "execution_count": 5,
   "metadata": {},
   "outputs": [
    {
     "name": "stdout",
     "output_type": "stream",
     "text": [
      "[1, 2, 3, 4, 5, 6, 7, 8, 9]\n",
      "[1, 2, 3, 4, 5, 7, 8, 9]\n"
     ]
    }
   ],
   "source": [
    "print(a)\n",
    "a.remove(6)\n",
    "print(a)\n"
   ]
  },
  {
   "cell_type": "code",
   "execution_count": 47,
   "metadata": {},
   "outputs": [
    {
     "name": "stdout",
     "output_type": "stream",
     "text": [
      " 1 \n",
      "\n",
      " 2  4 \n",
      "\n",
      " 3  6  9 \n",
      "\n",
      " 4  8 12 16 \n",
      "\n",
      " 5 10 15 20 25 \n",
      "\n",
      " 6 12 18 24 30 36 \n",
      "\n",
      " 7 14 21 28 35 42 49 \n",
      "\n",
      " 8 16 24 32 40 48 56 64 \n",
      "\n",
      " 9 18 27 36 45 54 63 72 81 \n",
      "\n"
     ]
    }
   ],
   "source": [
    "n = 1\n",
    "for i in range(1,10):\n",
    "    for j in range(1,10):\n",
    "        if j <= i:\n",
    "            n = j * i\n",
    "            str(n)\n",
    "            print(\"%2d\"%n, end=\" \")\n",
    "    print(\"\\n\")"
   ]
  },
  {
   "cell_type": "code",
   "execution_count": 58,
   "metadata": {},
   "outputs": [
    {
     "name": "stdout",
     "output_type": "stream",
     "text": [
      "一共需要：7\n"
     ]
    }
   ],
   "source": [
    "def hanno (n):\n",
    "    a = 2**n - 1\n",
    "    print(\"一共需要：{0}\".format(a))\n",
    "\n",
    "hanno (3)\n",
    "    \n",
    "        \n",
    "    "
   ]
  },
  {
   "cell_type": "code",
   "execution_count": 1,
   "metadata": {},
   "outputs": [
    {
     "name": "stdout",
     "output_type": "stream",
     "text": [
      "123\n",
      "124\n",
      "132\n",
      "134\n",
      "142\n",
      "143\n",
      "213\n",
      "214\n",
      "231\n",
      "234\n",
      "241\n",
      "243\n",
      "312\n",
      "314\n",
      "321\n",
      "324\n",
      "341\n",
      "342\n",
      "412\n",
      "413\n",
      "421\n",
      "423\n",
      "431\n",
      "432\n",
      "24\n"
     ]
    }
   ],
   "source": [
    "m = 0\n",
    "for i in range (1,5):\n",
    "    for j in range (1,5):\n",
    "        for x in range (1,5):\n",
    "            if i != j and i != x and j != x:\n",
    "                n = i*100+j*10+x\n",
    "                print(n)\n",
    "                m += 1\n",
    "                \n",
    "print(m)"
   ]
  },
  {
   "cell_type": "code",
   "execution_count": 8,
   "metadata": {},
   "outputs": [
    {
     "name": "stdout",
     "output_type": "stream",
     "text": [
      "输入当月利润：120000\n",
      "<class 'float'>\n",
      "11500.0\n"
     ]
    }
   ],
   "source": [
    "m = 0\n",
    "n = float(input(\"输入当月利润：\"))\n",
    "print(type(n))\n",
    "if n <= 100000:\n",
    "    m = n*0.1\n",
    "elif n <= 200000:\n",
    "    m = (n-100000)*0.075+100000*0.1\n",
    "elif n <= 400000:\n",
    "    m = (n-200000)*0.05+(200000-100000)+100000*0.1\n",
    "elif n <= 600000:\n",
    "    m = (n-400000)*0.03+(40000-200000)*0.05+(200000-100000)+100000*0.1\n",
    "elif n <= 1000000:\n",
    "    m = (n-600000)*0.015+(600000-400000)*0.03+(40000-200000)*0.05+(200000-100000)+100000*0.1\n",
    "elif n > 1000000:\n",
    "    m = (n-1000000)*0.01+(1000000-600000)*0.015+(600000-400000)*0.03+(40000-200000)*0.05+(200000-100000)+100000*0.1     \n",
    "print(m)"
   ]
  },
  {
   "cell_type": "code",
   "execution_count": 14,
   "metadata": {},
   "outputs": [
    {
     "name": "stdout",
     "output_type": "stream",
     "text": [
      "[0, 1, 2, 3, 4, 5, 6, 7, 8, 9]\n",
      "[0, 1, 2, 3, 4, 5, 6]\n",
      "[1, 3, 5, 7]\n"
     ]
    }
   ],
   "source": [
    "a = [i for i in range(0,10)]\n",
    "print(a)\n",
    "b = a[0:-3]\n",
    "print(b)\n",
    "b = a[1:8:2]\n",
    "print(b)"
   ]
  },
  {
   "cell_type": "code",
   "execution_count": 24,
   "metadata": {},
   "outputs": [
    {
     "name": "stdout",
     "output_type": "stream",
     "text": [
      "21\n"
     ]
    }
   ],
   "source": [
    "import numpy\n",
    "a = 0\n",
    "def oa(x):\n",
    "    if (numpy.sqrt(x + 100)) ==  int((numpy.sqrt(x + 100))) and (numpy.sqrt(x + 100+168)) ==  int((numpy.sqrt(x + 100+168))):\n",
    "        print(x)\n",
    "    else:\n",
    "        oa(x+1)\n",
    "\n",
    "oa(a)\n",
    "    "
   ]
  },
  {
   "cell_type": "code",
   "execution_count": 18,
   "metadata": {},
   "outputs": [
    {
     "name": "stdout",
     "output_type": "stream",
     "text": [
      "4\n"
     ]
    }
   ],
   "source": [
    "a = 100%6\n",
    "print(a)"
   ]
  },
  {
   "cell_type": "code",
   "execution_count": 21,
   "metadata": {},
   "outputs": [
    {
     "name": "stdout",
     "output_type": "stream",
     "text": [
      "10.0\n"
     ]
    }
   ],
   "source": [
    "import math\n",
    "a = math.sqrt(100)\n",
    "print(a)"
   ]
  },
  {
   "cell_type": "code",
   "execution_count": 5,
   "metadata": {},
   "outputs": [
    {
     "name": "stdout",
     "output_type": "stream",
     "text": [
      "{'one': 1, 'two': 2, 'three': 3, 'four': 4, 'five': 5}\n"
     ]
    }
   ],
   "source": [
    "d = dict( [(\"one\",1),(\"two\",2),(\"three\",3),(\"four\",4),(\"five\",5)])\n",
    "print(d)"
   ]
  },
  {
   "cell_type": "code",
   "execution_count": 12,
   "metadata": {},
   "outputs": [
    {
     "name": "stdout",
     "output_type": "stream",
     "text": [
      "{'one': 1.124, 'two': 2}\n"
     ]
    }
   ],
   "source": [
    "d = dict(one=1.124, two=2)  \n",
    "print(d)"
   ]
  },
  {
   "cell_type": "code",
   "execution_count": 11,
   "metadata": {},
   "outputs": [
    {
     "name": "stdout",
     "output_type": "stream",
     "text": [
      "{1: 'one', 3: 'two'}\n"
     ]
    }
   ],
   "source": [
    "d = {1:\"one\", 3:\"three\",3:\"two\"}\n",
    "print(d)"
   ]
  },
  {
   "cell_type": "code",
   "execution_count": null,
   "metadata": {},
   "outputs": [],
   "source": []
  }
 ],
 "metadata": {
  "kernelspec": {
   "display_name": "Python 3",
   "language": "python",
   "name": "python3"
  },
  "language_info": {
   "codemirror_mode": {
    "name": "ipython",
    "version": 3
   },
   "file_extension": ".py",
   "mimetype": "text/x-python",
   "name": "python",
   "nbconvert_exporter": "python",
   "pygments_lexer": "ipython3",
   "version": "3.6.5"
  }
 },
 "nbformat": 4,
 "nbformat_minor": 2
}
