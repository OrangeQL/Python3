{
 "cells": [
  {
   "cell_type": "code",
   "execution_count": 1,
   "metadata": {},
   "outputs": [
    {
     "name": "stdout",
     "output_type": "stream",
     "text": [
      "输入年份：2000\n",
      "输入月份：12\n",
      "输入日期：6\n",
      "341\n"
     ]
    }
   ],
   "source": [
    "#输入某年某月某日，判断这一天是这一年的第几天？\n",
    "year = int(input(\"输入年份：\"))\n",
    "month = int(input(\"输入月份：\"))\n",
    "day = int(input(\"输入日期：\"))\n",
    "list_month1 = {1:31,2:29,3:31,4:30,5:31,6:30,7:31,8:31,9:30,10:31,11:30,12:31}\n",
    "list_month2 = {1:31,2:28,3:31,4:30,5:31,6:30,7:31,8:31,9:30,10:31,11:30,12:31}\n",
    "n = 0\n",
    "if year%400 == 0 or (year%4 == 0 and year%100 != 0):\n",
    "    for i,j in list_month1.items():\n",
    "        if month > i:\n",
    "            n += j\n",
    "    n += day\n",
    "else:\n",
    "    for i,j in list_month2.items():\n",
    "        if month > i:\n",
    "            n += j\n",
    "    n += day\n",
    "print(n)  "
   ]
  },
  {
   "cell_type": "code",
   "execution_count": 2,
   "metadata": {},
   "outputs": [
    {
     "name": "stdout",
     "output_type": "stream",
     "text": [
      "21\n"
     ]
    }
   ],
   "source": [
    "#一个整数，它加上100后是一个完全平方数，再加上168又是一个完全平方数，请问该数是多少？\n",
    "import numpy\n",
    "a = 0\n",
    "def oa(x):\n",
    "    if (numpy.sqrt(x + 100)) ==  int((numpy.sqrt(x + 100))) and (numpy.sqrt(x + 100+168)) ==  int((numpy.sqrt(x + 100+168))):\n",
    "        print(x)\n",
    "    else:\n",
    "        oa(x+1)\n",
    "\n",
    "oa(a)"
   ]
  },
  {
   "cell_type": "code",
   "execution_count": 5,
   "metadata": {},
   "outputs": [
    {
     "name": "stdout",
     "output_type": "stream",
     "text": [
      "123\n",
      "124\n",
      "132\n",
      "134\n",
      "142\n",
      "143\n",
      "213\n",
      "214\n",
      "231\n",
      "234\n",
      "241\n",
      "243\n",
      "312\n",
      "314\n",
      "321\n",
      "324\n",
      "341\n",
      "342\n",
      "412\n",
      "413\n",
      "421\n",
      "423\n",
      "431\n",
      "432\n",
      "总共24个数\n"
     ]
    }
   ],
   "source": [
    "#有四个数字：1、2、3、4，能组成多少个互不相同且无重复数字的三位数？各是多少？\n",
    "m = 0\n",
    "for i in range (1,5):\n",
    "    for j in range (1,5):\n",
    "        for x in range (1,5):\n",
    "            if i != j and i != x and j != x:\n",
    "                n = i*100+j*10+x\n",
    "                print(n)\n",
    "                m += 1\n",
    "                \n",
    "print(\"总共{0}个数\".format(m))"
   ]
  },
  {
   "cell_type": "code",
   "execution_count": 9,
   "metadata": {},
   "outputs": [
    {
     "name": "stdout",
     "output_type": "stream",
     "text": [
      "请输入x：33\n",
      "请输入y：6\n",
      "请输入z：122\n",
      "6 \n",
      " ******************** \n",
      " 33 \n",
      " ******************** \n",
      " 122\n"
     ]
    }
   ],
   "source": [
    "#输入三个整数x,y,z，请把这三个数由小到大输出\n",
    "x = int(input(\"请输入x：\"))\n",
    "y = int(input(\"请输入y：\"))\n",
    "z = int(input(\"请输入z：\"))\n",
    "if x > y:\n",
    "    x , y = y , x\n",
    "if y > z:\n",
    "    y , z = z , y\n",
    "    if x > y:\n",
    "        x , y = y , x\n",
    "print(x,\"\\n\", \"*\" * 20 ,\"\\n\", y,\"\\n\" , \"*\" * 20 , \"\\n\" , z)"
   ]
  },
  {
   "cell_type": "code",
   "execution_count": 18,
   "metadata": {},
   "outputs": [
    {
     "name": "stdout",
     "output_type": "stream",
     "text": [
      "请输入：6\n"
     ]
    },
    {
     "data": {
      "text/plain": [
       "8"
      ]
     },
     "execution_count": 18,
     "metadata": {},
     "output_type": "execute_result"
    }
   ],
   "source": [
    "#斐波那契数列\n",
    "def fib(n):\n",
    "    if n <= 2:\n",
    "        return 1\n",
    "    return fib(n-1) + fib(n-2)\n",
    "    print(fib(n))\n",
    "a = int(input(\"请输入：\"))\n",
    "fib(a)\n"
   ]
  },
  {
   "cell_type": "code",
   "execution_count": 1,
   "metadata": {},
   "outputs": [
    {
     "name": "stdout",
     "output_type": "stream",
     "text": [
      "请输入一个数：24\n",
      "[1, 2, 3, 4, 5, 6, 7, 8, 9, 10, 11, 12, 13, 14, 15, 16, 17, 18, 19, 20, 21, 22, 23]\n",
      "[]\n",
      "[1, 2, 3, 4, 5, 6, 7, 8, 9, 10, 11, 12, 13, 14, 15, 16, 17, 18, 19, 20, 21, 22, 23]\n",
      "[1, 2, 3, 4, 5, 6, 7, 8, 9, 10, 11, 12, 13, 14, 15, 16, 17, 18, 19, 20, 21, 22, 23]\n",
      "[1, 2, 3, 4, 5, 6, 7, 8, 9, 10, 11, 12, 13, 14, 15, 16, 17, 18, 19, 20, 21, 22, 23]\n"
     ]
    }
   ],
   "source": [
    "#将一个列表的数据复制到另一个列表中\n",
    "a = int(input(\"请输入一个数：\"))\n",
    "list1 = [i for i in range (1,a)]\n",
    "n = len(list1) \n",
    "list2 = []\n",
    "b = 0\n",
    "print(list1)\n",
    "print(list2)\n",
    "while n > b:\n",
    "    list2.append(list1[b])\n",
    "    b += 1\n",
    "list3 = list1[:]\n",
    "    \n",
    "print(list1)\n",
    "print(list2)\n",
    "print(list3)"
   ]
  },
  {
   "cell_type": "code",
   "execution_count": null,
   "metadata": {},
   "outputs": [],
   "source": []
  },
  {
   "cell_type": "code",
   "execution_count": null,
   "metadata": {},
   "outputs": [],
   "source": []
  },
  {
   "cell_type": "code",
   "execution_count": null,
   "metadata": {},
   "outputs": [],
   "source": []
  },
  {
   "cell_type": "code",
   "execution_count": null,
   "metadata": {},
   "outputs": [],
   "source": []
  }
 ],
 "metadata": {
  "kernelspec": {
   "display_name": "Python 3",
   "language": "python",
   "name": "python3"
  },
  "language_info": {
   "codemirror_mode": {
    "name": "ipython",
    "version": 3
   },
   "file_extension": ".py",
   "mimetype": "text/x-python",
   "name": "python",
   "nbconvert_exporter": "python",
   "pygments_lexer": "ipython3",
   "version": "3.6.5"
  }
 },
 "nbformat": 4,
 "nbformat_minor": 2
}
